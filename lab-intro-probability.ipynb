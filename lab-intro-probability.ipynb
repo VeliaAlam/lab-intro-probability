{
 "cells": [
  {
   "cell_type": "markdown",
   "metadata": {},
   "source": [
    "# Lab | Intro to Probability"
   ]
  },
  {
   "cell_type": "markdown",
   "metadata": {},
   "source": [
    "**Objective**\n",
    "\n",
    "Welcome to this Intro to Probability lab, where we explore decision-making scenarios through the lens of probability and strategic analysis. In the business world, making informed decisions is crucial, especially when faced with uncertainties. This lab focuses on scenarios where probabilistic outcomes play a significant role in shaping strategies and outcomes. Students will engage in exercises that require assessing and choosing optimal paths based on data-driven insights. The goal is to enhance your skills by applying probability concepts to solve real-world problems."
   ]
  },
  {
   "cell_type": "markdown",
   "metadata": {},
   "source": [
    "**Challenge 1**"
   ]
  },
  {
   "cell_type": "markdown",
   "metadata": {},
   "source": [
    "#### Ironhack Airlines \n",
    "\n",
    "Often Airlines sell more tickets than they have seats available, this is called overbooking. Consider the following:\n",
    "- A plane has 450 seats. \n",
    "- Based on historical data we conclude that each individual passenger has a 3% chance of missing it's flight. \n",
    "\n",
    "If the Ironhack Airlines routinely sells 460 tickets, what is the chance that they have a seats for all passenger?"
   ]
  },
  {
   "cell_type": "code",
   "execution_count": 1,
   "metadata": {},
   "outputs": [
    {
     "name": "stdout",
     "output_type": "stream",
     "text": [
      "The probability that all passengers have a seat is 88.4477%\n"
     ]
    }
   ],
   "source": [
    "from scipy.stats import binom\n",
    "\n",
    "# Parameters\n",
    "n = 460        # tickets sold\n",
    "p = 0.97       # probability that a passenger shows up\n",
    "capacity = 450 # number of seats\n",
    "\n",
    "# Probability that all passengers have a seat\n",
    "prob = binom.cdf(capacity, n, p)\n",
    "\n",
    "print(f\"The probability that all passengers have a seat is {prob:.4%}\")\n"
   ]
  },
  {
   "cell_type": "markdown",
   "metadata": {},
   "source": [
    "**Challenge 2**"
   ]
  },
  {
   "cell_type": "markdown",
   "metadata": {},
   "source": [
    "#### Ironhack Call Center "
   ]
  },
  {
   "cell_type": "markdown",
   "metadata": {},
   "source": [
    "Suppose a customer service representative at a call center is handling customer complaints. Consider the following:\n",
    "- The probability of successfully resolving a customer complaint on the first attempt is 0.3. \n",
    "\n",
    "\n",
    "What is the probability that the representative needs to make at least three attempts before successfully resolving a customer complaint?"
   ]
  },
  {
   "cell_type": "code",
   "execution_count": 2,
   "metadata": {},
   "outputs": [
    {
     "name": "stdout",
     "output_type": "stream",
     "text": [
      "The probability that at least 3 attempts are needed is 49.00%\n"
     ]
    }
   ],
   "source": [
    "from scipy.stats import geom\n",
    "\n",
    "p = 0.3  # probability of success on each attempt\n",
    "\n",
    "# Probability that at least 3 attempts are needed\n",
    "prob = 1 - geom.cdf(2, p)\n",
    "\n",
    "print(f\"The probability that at least 3 attempts are needed is {prob:.2%}\")"
   ]
  },
  {
   "cell_type": "markdown",
   "metadata": {},
   "source": [
    "**Challenge 3**"
   ]
  },
  {
   "cell_type": "markdown",
   "metadata": {},
   "source": [
    "#### Ironhack Website"
   ]
  },
  {
   "cell_type": "markdown",
   "metadata": {},
   "source": [
    "Consider a scenario related to Ironhack website traffic. Where:\n",
    "- our website takes on average 500 visits per hour.\n",
    "- the website's server is designed to handle up to 550 vists per hour.\n",
    "\n",
    "\n",
    "What is the probability of the website server being overwhelmed?"
   ]
  },
  {
   "cell_type": "code",
   "execution_count": 3,
   "metadata": {},
   "outputs": [
    {
     "name": "stdout",
     "output_type": "stream",
     "text": [
      "The probability that the server is overwhelmed is 1.2898%\n"
     ]
    }
   ],
   "source": [
    "from scipy.stats import poisson\n",
    "\n",
    "# Parameters\n",
    "lam = 500    # average visits per hour\n",
    "capacity = 550\n",
    "\n",
    "# Probability that the server is overwhelmed\n",
    "prob = 1 - poisson.cdf(capacity, lam)\n",
    "\n",
    "print(f\"The probability that the server is overwhelmed is {prob:.4%}\")\n"
   ]
  },
  {
   "cell_type": "markdown",
   "metadata": {},
   "source": [
    "What is the probability of being overwhelmed at some point during a day? (consider 24hours)"
   ]
  },
  {
   "cell_type": "code",
   "execution_count": 4,
   "metadata": {},
   "outputs": [
    {
     "name": "stdout",
     "output_type": "stream",
     "text": [
      "Probability of being overwhelmed in one hour: 1.2898%\n",
      "Probability of being overwhelmed at least once in a day: 26.7704%\n"
     ]
    }
   ],
   "source": [
    "# Parameters\n",
    "lam = 500    # average visits per hour\n",
    "capacity = 550\n",
    "\n",
    "# Probability of being overwhelmed in a single hour\n",
    "p_hour = 1 - poisson.cdf(capacity, lam)\n",
    "\n",
    "# Probability of being overwhelmed at least once in 24 hours\n",
    "p_day = 1 - (1 - p_hour) ** 24\n",
    "\n",
    "print(f\"Probability of being overwhelmed in one hour: {p_hour:.4%}\")\n",
    "print(f\"Probability of being overwhelmed at least once in a day: {p_day:.4%}\")\n"
   ]
  },
  {
   "cell_type": "markdown",
   "metadata": {},
   "source": [
    "**Challenge 4**"
   ]
  },
  {
   "cell_type": "markdown",
   "metadata": {},
   "source": [
    "#### Ironhack Helpdesk"
   ]
  },
  {
   "cell_type": "markdown",
   "metadata": {},
   "source": [
    "Consider a scenario related to the time between arrivals of customers at a service desk.\n",
    "\n",
    "On average, a customers arrives every 10minutes.\n",
    "\n",
    "What is the probability that the next customer will arrive within the next 5 minutes?"
   ]
  },
  {
   "cell_type": "code",
   "execution_count": 5,
   "metadata": {},
   "outputs": [
    {
     "name": "stdout",
     "output_type": "stream",
     "text": [
      "Probability (formula): 39.3469%\n",
      "Probability (scipy): 39.3469%\n"
     ]
    }
   ],
   "source": [
    "import math\n",
    "from scipy.stats import expon\n",
    "\n",
    "# Parameters\n",
    "mean = 10            # average arrival time in minutes\n",
    "lam = 1 / mean       # rate per minute\n",
    "\n",
    "# Probability using formula\n",
    "prob_formula = 1 - math.exp(-lam * 5)\n",
    "\n",
    "# Probability using scipy\n",
    "prob_scipy = expon.cdf(5, scale=mean)\n",
    "\n",
    "print(f\"Probability (formula): {prob_formula:.4%}\")\n",
    "print(f\"Probability (scipy): {prob_scipy:.4%}\")\n"
   ]
  },
  {
   "cell_type": "markdown",
   "metadata": {},
   "source": [
    "If there is no customer for 15minutes, employees can that a 5minutes break.\n",
    "\n",
    "What is the probability an employee taking a break?"
   ]
  },
  {
   "cell_type": "code",
   "execution_count": 6,
   "metadata": {},
   "outputs": [
    {
     "name": "stdout",
     "output_type": "stream",
     "text": [
      "Probability (formula): 22.3130%\n",
      "Probability (scipy): 22.3130%\n"
     ]
    }
   ],
   "source": [
    "import math\n",
    "from scipy.stats import expon\n",
    "\n",
    "mean = 10          # average arrival time in minutes\n",
    "lam = 1 / mean     # rate per minute\n",
    "\n",
    "# Probability that no customer arrives within 15 minutes\n",
    "prob_formula = math.exp(-lam * 15)\n",
    "\n",
    "# Using scipy\n",
    "prob_scipy = 1 - expon.cdf(15, scale=mean)  # survival function\n",
    "# or directly: expon.sf(15, scale=mean)\n",
    "\n",
    "print(f\"Probability (formula): {prob_formula:.4%}\")\n",
    "print(f\"Probability (scipy): {prob_scipy:.4%}\")\n"
   ]
  },
  {
   "cell_type": "markdown",
   "metadata": {},
   "source": [
    "22.31% chance an employee can take a break."
   ]
  },
  {
   "cell_type": "markdown",
   "metadata": {},
   "source": [
    "**Challenge 5**"
   ]
  },
  {
   "cell_type": "markdown",
   "metadata": {},
   "source": [
    "The weights of a certain species of birds follow a normal distribution with a mean weight of 150 grams and a standard deviation of 10 grams. \n",
    "\n",
    "- If we randomly select a bird, what is the probability that its weight is between 140 and 160 grams?"
   ]
  },
  {
   "cell_type": "code",
   "execution_count": 7,
   "metadata": {},
   "outputs": [
    {
     "name": "stdout",
     "output_type": "stream",
     "text": [
      "Probability that a bird weighs between 140g and 160g: 68.27%\n"
     ]
    }
   ],
   "source": [
    "from scipy.stats import norm\n",
    "\n",
    "# Parameters\n",
    "mu = 150\n",
    "sigma = 10\n",
    "\n",
    "# Probability that weight is between 140 and 160\n",
    "prob = norm.cdf(160, mu, sigma) - norm.cdf(140, mu, sigma)\n",
    "\n",
    "print(f\"Probability that a bird weighs between 140g and 160g: {prob:.2%}\")\n"
   ]
  },
  {
   "cell_type": "markdown",
   "metadata": {},
   "source": [
    "**Challenge 6**"
   ]
  },
  {
   "cell_type": "markdown",
   "metadata": {},
   "source": [
    "If the lifetime (in hours) of a certain electronic component follows an exponential distribution with a mean lifetime of 50 hours, what is the probability that the component fails within the first 30 hours?"
   ]
  },
  {
   "cell_type": "code",
   "execution_count": 8,
   "metadata": {},
   "outputs": [
    {
     "name": "stdout",
     "output_type": "stream",
     "text": [
      "Probability (formula): 45.12%\n",
      "Probability (scipy): 45.12%\n"
     ]
    }
   ],
   "source": [
    "import math\n",
    "from scipy.stats import expon\n",
    "\n",
    "mean = 50          # average lifetime in hours\n",
    "lam = 1 / mean     # rate per hour\n",
    "\n",
    "# Probability using formula\n",
    "prob_formula = 1 - math.exp(-lam * 30)\n",
    "\n",
    "# Probability using scipy\n",
    "prob_scipy = expon.cdf(30, scale=mean)\n",
    "\n",
    "print(f\"Probability (formula): {prob_formula:.2%}\")\n",
    "print(f\"Probability (scipy): {prob_scipy:.2%}\")\n"
   ]
  }
 ],
 "metadata": {
  "kernelspec": {
   "display_name": "base",
   "language": "python",
   "name": "python3"
  },
  "language_info": {
   "codemirror_mode": {
    "name": "ipython",
    "version": 3
   },
   "file_extension": ".py",
   "mimetype": "text/x-python",
   "name": "python",
   "nbconvert_exporter": "python",
   "pygments_lexer": "ipython3",
   "version": "3.13.5"
  }
 },
 "nbformat": 4,
 "nbformat_minor": 2
}
